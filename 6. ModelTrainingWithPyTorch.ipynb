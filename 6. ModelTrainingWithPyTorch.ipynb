{
 "cells": [
  {
   "cell_type": "markdown",
   "id": "bbb774e5-27e5-47d4-b390-aa9d1593e673",
   "metadata": {},
   "source": [
    "https://www.youtube.com/watch?v=jF43_wj_DCQ&list=PL_lsbAsL_o2CTlGHgMxNrKhzP97BaG9ZN&index=6&pp=iAQB"
   ]
  },
  {
   "cell_type": "markdown",
   "id": "07d42b0b-914f-4db7-9b70-efacf7b943d0",
   "metadata": {},
   "source": [
    "### Dataset and DataLoader"
   ]
  },
  {
   "cell_type": "code",
   "execution_count": 1,
   "id": "c4e54d7f-6616-42d0-9c56-ff25048e09c3",
   "metadata": {},
   "outputs": [
    {
     "name": "stdout",
     "output_type": "stream",
     "text": [
      "Training set has 60000 instances\n",
      "Validation set has 10000 instances\n"
     ]
    }
   ],
   "source": [
    "import torch\n",
    "import torchvision\n",
    "import torchvision.transforms as transforms\n",
    "\n",
    "from torch.utils.tensorboard import SummaryWriter\n",
    "from datetime import datetime\n",
    "\n",
    "transform = transforms.Compose([transforms.ToTensor(), transforms.Normalize((0.5,),(0.5,))])\n",
    "\n",
    "torch.multiprocessing.set_sharing_strategy('file_system')\n",
    "training_set = torchvision.datasets.FashionMNIST('./data', train=True, transform=transform, download=True)\n",
    "validation_set = torchvision.datasets.FashionMNIST('./data', train=False, transform=transform, download=True)\n",
    "\n",
    "training_loader = torch.utils.data.DataLoader(training_set, batch_size=4, shuffle=True, num_workers=4)\n",
    "validation_loader = torch.utils.data.DataLoader(validation_set, batch_size=4, shuffle=False, num_workers=4)\n",
    "\n",
    "classes = ('T-shirt/top', 'Trouser', 'Pullover', 'Dress', 'Coat', 'Sandal', 'Shirt', 'Sneaker', 'Bag', 'Ankle Boot')\n",
    "\n",
    "print('Training set has {} instances'.format(len(training_set)))\n",
    "print('Validation set has {} instances'.format(len(validation_set)))"
   ]
  },
  {
   "cell_type": "code",
   "execution_count": 2,
   "id": "0bdfa2a2-0786-4c10-8a06-0f4c7f4e9098",
   "metadata": {},
   "outputs": [
    {
     "name": "stdout",
     "output_type": "stream",
     "text": [
      "T-shirt/top   Coat   Bag   Ankle Boot\n"
     ]
    },
    {
     "data": {
      "image/png": "[encoded data removed]",
      "text/plain": [
       "<Figure size 640x480 with 1 Axes>"
      ]
     },
     "metadata": {},
     "output_type": "display_data"
    }
   ],
   "source": [
    "%matplotlib inline\n",
    "import matplotlib.pyplot as plt\n",
    "import numpy as np\n",
    "\n",
    "def matplotlib_imshow(img, one_channel=False):\n",
    "    if one_channel:\n",
    "        img = img.mean(dim=0)\n",
    "    img = img/2 + 0.5\n",
    "    npimg = img.numpy()\n",
    "    if one_channel:\n",
    "        plt.imshow(npimg, cmap=\"Greys\")\n",
    "    else:\n",
    "        plt.imshow(np.transpose(npimg, (1,2,0)))\n",
    "    plt.show()\n",
    "\n",
    "dataiter = iter(training_loader)\n",
    "images, labels = next(dataiter)\n",
    "\n",
    "img_grid = torchvision.utils.make_grid(images)\n",
    "print('   '.join(classes[labels[j]] for j in range(4)))\n",
    "matplotlib_imshow(img_grid, one_channel=True)"
   ]
  },
  {
   "cell_type": "markdown",
   "id": "a5d3efe2-6926-48e8-a48a-7571b4ab0cad",
   "metadata": {},
   "source": [
    "### The Model"
   ]
  },
  {
   "cell_type": "code",
   "execution_count": 3,
   "id": "1d2329dd-e430-476a-a23a-016b60a2a2ac",
   "metadata": {},
   "outputs": [
    {
     "name": "stdout",
     "output_type": "stream",
     "text": [
      "GarmentClassifier(\n",
      "  (conv1): Conv2d(1, 6, kernel_size=(5, 5), stride=(1, 1))\n",
      "  (pool): MaxPool2d(kernel_size=2, stride=2, padding=0, dilation=1, ceil_mode=False)\n",
      "  (conv2): Conv2d(6, 16, kernel_size=(5, 5), stride=(1, 1))\n",
      "  (fc1): Linear(in_features=256, out_features=120, bias=True)\n",
      "  (fc2): Linear(in_features=120, out_features=84, bias=True)\n",
      "  (fc3): Linear(in_features=84, out_features=10, bias=True)\n",
      ")\n"
     ]
    }
   ],
   "source": [
    "import torch.nn  as nn\n",
    "import torch.nn.functional as F\n",
    "\n",
    "# Variant of LeNet-5\n",
    "class GarmentClassifier(nn.Module):\n",
    "    def __init__(self):\n",
    "        super(GarmentClassifier, self).__init__()\n",
    "        self.conv1 = nn.Conv2d(1, 6, 5)\n",
    "        self.pool = nn.MaxPool2d(2,2)\n",
    "        self.conv2 = nn.Conv2d(6, 16, 5)\n",
    "        self.fc1 = nn.Linear(16*4*4, 120)\n",
    "        self.fc2 = nn.Linear(120, 84)\n",
    "        self.fc3 = nn.Linear(84, 10)\n",
    "\n",
    "    def forward(self, x):\n",
    "        x = self.pool(F.relu(self.conv1(x)))\n",
    "        x = self.pool(F.relu(self.conv2(x)))\n",
    "        x = x.view(-1, 16*4*4)\n",
    "        x = F.relu(self.fc1(x))\n",
    "        x = F.relu(self.fc2(x))\n",
    "        x = self.fc3(x)\n",
    "        return x\n",
    "\n",
    "model = GarmentClassifier()\n",
    "print(model)"
   ]
  },
  {
   "cell_type": "markdown",
   "id": "8de29795-4722-4845-86da-07fdcd3cfa2b",
   "metadata": {},
   "source": [
    "### Loss Functions"
   ]
  },
  {
   "cell_type": "code",
   "execution_count": 4,
   "id": "942117b5-4308-4758-aa94-a4326954a612",
   "metadata": {},
   "outputs": [
    {
     "name": "stdout",
     "output_type": "stream",
     "text": [
      "tensor([[0.4169, 0.4712, 0.4313, 0.0392, 0.0275, 0.5476, 0.7795, 0.5462, 0.9280,\n",
      "         0.6288],\n",
      "        [0.3429, 0.3384, 0.2735, 0.3505, 0.1494, 0.5516, 0.5225, 0.7876, 0.4212,\n",
      "         0.6593],\n",
      "        [0.3573, 0.9626, 0.8952, 0.0823, 0.6199, 0.7635, 0.9119, 0.3163, 0.3870,\n",
      "         0.7980],\n",
      "        [0.4067, 0.0325, 0.4926, 0.6410, 0.6338, 0.0185, 0.8619, 0.8820, 0.7888,\n",
      "         0.9055]])\n",
      "tensor([1, 5, 3, 7])\n",
      "Total loss for this batch: 2.364306926727295\n"
     ]
    }
   ],
   "source": [
    "loss_fn = torch.nn.CrossEntropyLoss()\n",
    "\n",
    "dummy_outputs = torch.rand(4,10)\n",
    "dummy_labels = torch.tensor([1,5,3,7])\n",
    "\n",
    "print(dummy_outputs)\n",
    "print(dummy_labels)\n",
    "\n",
    "loss = loss_fn(dummy_outputs, dummy_labels)\n",
    "print('Total loss for this batch: {}'.format(loss.item()))"
   ]
  },
  {
   "cell_type": "markdown",
   "id": "6cb3d868-c21f-4e43-ba0b-a306fb7077a2",
   "metadata": {},
   "source": [
    "### Optimizer"
   ]
  },
  {
   "cell_type": "code",
   "execution_count": 5,
   "id": "bbc4ee98-5f1d-4dfe-98e2-4a5f4b018f9d",
   "metadata": {},
   "outputs": [],
   "source": [
    "optimizer = torch.optim.SGD(model.parameters(), lr=0.001, momentum=0.9)"
   ]
  },
  {
   "cell_type": "markdown",
   "id": "992350df-c8df-4517-b10e-489310d3cd5a",
   "metadata": {},
   "source": [
    "### The Training Loop"
   ]
  },
  {
   "cell_type": "code",
   "execution_count": 6,
   "id": "05f0b323-7c2b-4307-80ae-0f4aaf7cdbf1",
   "metadata": {},
   "outputs": [],
   "source": [
    "def train_one_epoch(epoch_index, tb_writer):\n",
    "    running_loss = 0.\n",
    "    last_loss = 0.\n",
    "\n",
    "    for i, data in enumerate(training_loader):\n",
    "        inputs, labels = data\n",
    "        \n",
    "        # Zero the gradients for every batch!\n",
    "        optimizer.zero_grad()\n",
    "        \n",
    "        # Make predictions for this batch\n",
    "        outputs = model(inputs)\n",
    "        \n",
    "        # Compute the loss and its gradients\n",
    "        loss = loss_fn(outputs, labels)\n",
    "        loss.backward()\n",
    "        \n",
    "        # Adjust learning weights\n",
    "        optimizer.step()\n",
    "\n",
    "        # Gather data and report\n",
    "        running_loss += loss.item()\n",
    "        if i % 1000 == 999:\n",
    "            last_loss = running_loss / 1000 # loss per batch\n",
    "            print('  batch {} loss {}'.format(i+1, last_loss))\n",
    "            tb_x = epoch_index * len(training_loader) + i + 1\n",
    "            tb_writer.add_scalar('Loss/train', last_loss, tb_x)\n",
    "            running_loss = 0.\n",
    "\n",
    "    return last_loss"
   ]
  },
  {
   "cell_type": "markdown",
   "id": "2f349a4b-7f0d-4bad-b8cb-2fe60804c96f",
   "metadata": {},
   "source": [
    "### Per-Epoch Activity"
   ]
  },
  {
   "cell_type": "code",
   "execution_count": 7,
   "id": "947c3875-2158-491b-bc15-7c9489741f71",
   "metadata": {},
   "outputs": [],
   "source": [
    "timestamp = datetime.now().strftime('%Y%m%d%H%M%S')\n",
    "writer = SummaryWriter('runs/fashion_trainer_{}'.format(timestamp))\n",
    "epoch_number = 0"
   ]
  },
  {
   "cell_type": "code",
   "execution_count": 10,
   "id": "19d7ba74-7591-451d-a2f2-e0dae148c9bd",
   "metadata": {},
   "outputs": [
    {
     "name": "stdout",
     "output_type": "stream",
     "text": [
      "EPOCH 6:\n",
      "  batch 1000 loss 0.2658486292197922\n",
      "  batch 2000 loss 0.2630033697149629\n",
      "  batch 3000 loss 0.26631713598758144\n",
      "  batch 4000 loss 0.25171265662793485\n",
      "  batch 5000 loss 0.27604081549991405\n",
      "  batch 6000 loss 0.2601625058490572\n",
      "  batch 7000 loss 0.25388678106239515\n",
      "  batch 8000 loss 0.25808189037314694\n",
      "  batch 9000 loss 0.2776588405236689\n",
      "  batch 10000 loss 0.2742039644359238\n",
      "  batch 11000 loss 0.2866728334586005\n",
      "  batch 12000 loss 0.2817606930511192\n",
      "  batch 13000 loss 0.2702535711697419\n",
      "  batch 14000 loss 0.27150332208158945\n",
      "  batch 15000 loss 0.2511101939220266\n",
      "LOSS train 0.2511101939220266 valid 0.30434146523475647\n",
      "EPOCH 7:\n",
      "  batch 1000 loss 0.26271829537918256\n",
      "  batch 2000 loss 0.24837987989073917\n",
      "  batch 3000 loss 0.2496601567660018\n",
      "  batch 4000 loss 0.2536980415442449\n",
      "  batch 5000 loss 0.24366643459701665\n",
      "  batch 6000 loss 0.26466611780742644\n",
      "  batch 7000 loss 0.25489397011479\n",
      "  batch 8000 loss 0.24629483556169543\n",
      "  batch 9000 loss 0.24811975223214994\n",
      "  batch 10000 loss 0.25675782544552656\n",
      "  batch 11000 loss 0.25675590328672343\n",
      "  batch 12000 loss 0.2694077783023513\n",
      "  batch 13000 loss 0.24466520048113852\n",
      "  batch 14000 loss 0.2574330178870805\n",
      "  batch 15000 loss 0.24819052734354044\n",
      "LOSS train 0.24819052734354044 valid 0.30070602893829346\n",
      "EPOCH 8:\n",
      "  batch 1000 loss 0.2205901006783315\n",
      "  batch 2000 loss 0.22388866659110693\n",
      "  batch 3000 loss 0.24191145277387296\n",
      "  batch 4000 loss 0.2421890552680261\n",
      "  batch 5000 loss 0.23672682881309084\n",
      "  batch 6000 loss 0.24674773255206764\n",
      "  batch 7000 loss 0.24257768706421484\n",
      "  batch 8000 loss 0.2538308444408688\n",
      "  batch 9000 loss 0.25810799601806866\n",
      "  batch 10000 loss 0.24591912950800895\n",
      "  batch 11000 loss 0.23560592548420833\n",
      "  batch 12000 loss 0.25945620745146514\n",
      "  batch 13000 loss 0.23076483734607814\n",
      "  batch 14000 loss 0.24937930428882601\n",
      "  batch 15000 loss 0.24930872700189866\n",
      "LOSS train 0.24930872700189866 valid 0.31352564692497253\n",
      "EPOCH 9:\n",
      "  batch 1000 loss 0.2265744017863731\n",
      "  batch 2000 loss 0.22753977294763716\n",
      "  batch 3000 loss 0.23925691070581342\n",
      "  batch 4000 loss 0.2326127420771727\n",
      "  batch 5000 loss 0.24306780481548357\n",
      "  batch 6000 loss 0.22920257647043354\n",
      "  batch 7000 loss 0.23063412426198898\n",
      "  batch 8000 loss 0.236598415837394\n",
      "  batch 9000 loss 0.22497197533370128\n",
      "  batch 10000 loss 0.24186851464825668\n",
      "  batch 11000 loss 0.24087069759747645\n",
      "  batch 12000 loss 0.22623693189990082\n",
      "  batch 13000 loss 0.22043512099950477\n",
      "  batch 14000 loss 0.23923991503874914\n",
      "  batch 15000 loss 0.2392078011962144\n",
      "LOSS train 0.2392078011962144 valid 0.2967350482940674\n",
      "EPOCH 10:\n",
      "  batch 1000 loss 0.2110901406858434\n",
      "  batch 2000 loss 0.21813690983636297\n",
      "  batch 3000 loss 0.2219262081737088\n",
      "  batch 4000 loss 0.2153695803812816\n",
      "  batch 5000 loss 0.2089303738016133\n",
      "  batch 6000 loss 0.2119967630838896\n",
      "  batch 7000 loss 0.22433670515299492\n",
      "  batch 8000 loss 0.1989251436825939\n",
      "  batch 9000 loss 0.23441712677926535\n",
      "  batch 10000 loss 0.237118573215761\n",
      "  batch 11000 loss 0.23796254788290686\n",
      "  batch 12000 loss 0.2370779763004956\n",
      "  batch 13000 loss 0.22890835538747933\n",
      "  batch 14000 loss 0.2341080084929065\n",
      "  batch 15000 loss 0.24119219464150182\n",
      "LOSS train 0.24119219464150182 valid 0.2882099151611328\n"
     ]
    }
   ],
   "source": [
    "EPOCHS = 5\n",
    "\n",
    "best_vloss = 1_000_000.\n",
    "\n",
    "for epoch in range(EPOCHS):\n",
    "    print('EPOCH {}:'.format(epoch_number+1))\n",
    "\n",
    "    # Make sure gradient tracking is on, and do a pass over the data\n",
    "    model.train(True)\n",
    "    avg_loss = train_one_epoch(epoch_number, writer)\n",
    "\n",
    "    # We don't need gradients on to do reporting\n",
    "    model.train(False)\n",
    "\n",
    "    running_vloss = 0.0\n",
    "    for i, vdata in enumerate(validation_loader):\n",
    "        vinputs, vlabels = vdata\n",
    "        voutputs = model(vinputs)\n",
    "        vloss = loss_fn(voutputs, vlabels)\n",
    "        running_vloss += vloss\n",
    "\n",
    "    avg_vloss = running_vloss / (i+1)\n",
    "    print('LOSS train {} valid {}'.format(avg_loss, avg_vloss))\n",
    "\n",
    "    writer.add_scalars('Training vs. Validation Loss', { 'Training' : avg_loss, 'Validataion' : avg_vloss }, epoch_number+1)\n",
    "    writer.flush()\n",
    "  \n",
    "    # Track best performance, and save the model's state\n",
    "    if avg_vloss < best_vloss:\n",
    "        best_vloss = avg_vloss\n",
    "        model_path = 'model_{}_{}'.format(timestamp, epoch_number)\n",
    "        torch.save(model.state_dict(), model_path)\n",
    "\n",
    "    epoch_number += 1"
   ]
  },
  {
   "cell_type": "code",
   "execution_count": null,
   "id": "81dc2de1-b7a2-424a-b701-3db5e7b7551b",
   "metadata": {},
   "outputs": [],
   "source": []
  }
 ],
 "metadata": {
  "kernelspec": {
   "display_name": "Python 3 (ipykernel)",
   "language": "python",
   "name": "python3"
  },
  "language_info": {
   "codemirror_mode": {
    "name": "ipython",
    "version": 3
   },
   "file_extension": ".py",
   "mimetype": "text/x-python",
   "name": "python",
   "nbconvert_exporter": "python",
   "pygments_lexer": "ipython3",
   "version": "3.12.5"
  }
 },
 "nbformat": 4,
 "nbformat_minor": 5
}
