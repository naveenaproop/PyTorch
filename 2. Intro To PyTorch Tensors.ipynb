{
 "cells": [
  {
   "cell_type": "markdown",
   "id": "8a3defc1-d406-41f3-96aa-be83cc65558a",
   "metadata": {},
   "source": [
    "https://www.youtube.com/watch?v=r7QDUPb2dCM&list=PL_lsbAsL_o2CTlGHgMxNrKhzP97BaG9ZN&index=2&pp=iAQB"
   ]
  },
  {
   "cell_type": "code",
   "execution_count": 1,
   "id": "b4b3cd22-7492-4f5a-b694-c1a1c7946915",
   "metadata": {},
   "outputs": [],
   "source": [
    "import torch\n",
    "import math"
   ]
  },
  {
   "cell_type": "code",
   "execution_count": 2,
   "id": "ff4c0d9a-26f6-4067-b29e-8e686a435ba4",
   "metadata": {},
   "outputs": [
    {
     "name": "stdout",
     "output_type": "stream",
     "text": [
      "<class 'torch.Tensor'>\n",
      "tensor([[1.1022e-14, 4.5835e-41, 1.1022e-14, 4.5835e-41],\n",
      "        [0.0000e+00, 0.0000e+00, 0.0000e+00, 0.0000e+00],\n",
      "        [0.0000e+00, 0.0000e+00, 0.0000e+00, 0.0000e+00]])\n"
     ]
    }
   ],
   "source": [
    "x = torch.empty(3,4)\n",
    "print(type(x))\n",
    "print(x)"
   ]
  },
  {
   "cell_type": "code",
   "execution_count": 3,
   "id": "40074807-89f3-415e-9770-a70d68e5ed7c",
   "metadata": {},
   "outputs": [
    {
     "name": "stdout",
     "output_type": "stream",
     "text": [
      "tensor([[0., 0., 0.],\n",
      "        [0., 0., 0.]])\n",
      "tensor([[1., 1., 1.],\n",
      "        [1., 1., 1.]])\n",
      "tensor([[0.3126, 0.3791, 0.3087],\n",
      "        [0.0736, 0.4216, 0.0691]])\n"
     ]
    }
   ],
   "source": [
    "zeros = torch.zeros(2,3)\n",
    "print(zeros)\n",
    "\n",
    "ones = torch.ones(2,3)\n",
    "print(ones)\n",
    "\n",
    "torch.manual_seed(1729)\n",
    "random = torch.rand(2,3)\n",
    "print(random)"
   ]
  },
  {
   "cell_type": "code",
   "execution_count": 4,
   "id": "2af3487f-bde3-4ddf-b205-c1cc5bbed807",
   "metadata": {},
   "outputs": [
    {
     "name": "stdout",
     "output_type": "stream",
     "text": [
      "tensor([[0.3126, 0.3791, 0.3087],\n",
      "        [0.0736, 0.4216, 0.0691]])\n",
      "tensor([[0.2332, 0.4047, 0.2162],\n",
      "        [0.9927, 0.4128, 0.5938]])\n",
      "tensor([[0.3126, 0.3791, 0.3087],\n",
      "        [0.0736, 0.4216, 0.0691]])\n",
      "tensor([[0.2332, 0.4047, 0.2162],\n",
      "        [0.9927, 0.4128, 0.5938]])\n"
     ]
    }
   ],
   "source": [
    "torch.manual_seed(1729)\n",
    "random1 = torch.rand(2,3)\n",
    "print(random1)\n",
    "\n",
    "random2 = torch.rand(2,3)\n",
    "print(random2)\n",
    "\n",
    "torch.manual_seed(1729)\n",
    "random3 = torch.rand(2,3)\n",
    "print(random3)\n",
    "\n",
    "random4 = torch.rand(2,3)\n",
    "print(random4)"
   ]
  },
  {
   "cell_type": "code",
   "execution_count": 5,
   "id": "f8c4d5da-1132-4368-b702-fb3dfff7ed40",
   "metadata": {},
   "outputs": [
    {
     "name": "stdout",
     "output_type": "stream",
     "text": [
      "torch.Size([2, 2, 3])\n",
      "tensor([[[1.1137e-34, 0.0000e+00, 0.0000e+00],\n",
      "         [1.4013e-45, 8.9683e-44, 0.0000e+00]],\n",
      "\n",
      "        [[1.1210e-43, 0.0000e+00, 0.0000e+00],\n",
      "         [0.0000e+00, 3.4455e-10, 4.5834e-41]]])\n",
      "torch.Size([2, 2, 3])\n",
      "tensor([[[1.0886e-34, 0.0000e+00, 1.1030e-34],\n",
      "         [0.0000e+00, 1.1210e-43, 0.0000e+00]],\n",
      "\n",
      "        [[8.9683e-44, 0.0000e+00, 1.1137e-34],\n",
      "         [0.0000e+00, 0.0000e+00, 1.1755e-38]]])\n",
      "torch.Size([2, 2, 3])\n",
      "tensor([[[0., 0., 0.],\n",
      "         [0., 0., 0.]],\n",
      "\n",
      "        [[0., 0., 0.],\n",
      "         [0., 0., 0.]]])\n",
      "torch.Size([2, 2, 3])\n",
      "tensor([[[1., 1., 1.],\n",
      "         [1., 1., 1.]],\n",
      "\n",
      "        [[1., 1., 1.],\n",
      "         [1., 1., 1.]]])\n",
      "torch.Size([2, 2, 3])\n",
      "tensor([[[0.6128, 0.1519, 0.0453],\n",
      "         [0.5035, 0.9978, 0.3884]],\n",
      "\n",
      "        [[0.6929, 0.1703, 0.1384],\n",
      "         [0.4759, 0.7481, 0.0361]]])\n"
     ]
    }
   ],
   "source": [
    "x = torch.empty(2,2,3)\n",
    "print(x.shape)\n",
    "print(x)\n",
    "\n",
    "empty_like_x = torch.empty_like(x)\n",
    "print(empty_like_x.shape)\n",
    "print(empty_like_x)\n",
    "\n",
    "zeros_like_x = torch.zeros_like(x)\n",
    "print(zeros_like_x.shape)\n",
    "print(zeros_like_x)\n",
    "\n",
    "ones_like_x = torch.ones_like(x)\n",
    "print(ones_like_x.shape)\n",
    "print(ones_like_x)\n",
    "\n",
    "rand_like_x = torch.rand_like(x)\n",
    "print(rand_like_x.shape)\n",
    "print(rand_like_x)"
   ]
  },
  {
   "cell_type": "code",
   "execution_count": 6,
   "id": "79f4f9ad-93ec-4333-a7ae-389594b8a447",
   "metadata": {},
   "outputs": [
    {
     "name": "stdout",
     "output_type": "stream",
     "text": [
      "tensor([[3.2342, 2.3242],\n",
      "        [0.1234, 5.2342]])\n",
      "tensor([ 2,  3,  5,  7, 11, 13, 17, 19])\n",
      "tensor([[2, 4, 6],\n",
      "        [3, 6, 9]])\n"
     ]
    }
   ],
   "source": [
    "some_constants = torch.tensor([[3.2342, 2.32423],[.1234, 5.234234]])\n",
    "print(some_constants)\n",
    "\n",
    "some_integers = torch.tensor((2,3,5,7,11,13,17,19))\n",
    "print(some_integers)\n",
    "\n",
    "more_integers = torch.tensor(((2,4,6), [3,6,9]))\n",
    "print(more_integers)"
   ]
  },
  {
   "cell_type": "code",
   "execution_count": 8,
   "id": "8940748b-bbe7-4b4a-ba6c-837b41ef81b6",
   "metadata": {},
   "outputs": [
    {
     "name": "stdout",
     "output_type": "stream",
     "text": [
      "tensor([[1, 1, 1],\n",
      "        [1, 1, 1]], dtype=torch.int16)\n",
      "tensor([[18.3283,  0.2118, 18.4972],\n",
      "        [ 9.8370,  3.8937, 16.1945]], dtype=torch.float64)\n",
      "tensor([[18,  0, 18],\n",
      "        [ 9,  3, 16]], dtype=torch.int32)\n"
     ]
    }
   ],
   "source": [
    "a = torch.ones((2,3), dtype=torch.int16)\n",
    "print(a)\n",
    "\n",
    "b = torch.rand((2,3), dtype=torch.float64) * 20.\n",
    "print(b)\n",
    "\n",
    "c = b.to(torch.int32)\n",
    "print(c)"
   ]
  },
  {
   "cell_type": "code",
   "execution_count": 10,
   "id": "356211e8-9df6-4268-8315-d66194ca7c13",
   "metadata": {},
   "outputs": [
    {
     "name": "stdout",
     "output_type": "stream",
     "text": [
      "tensor([[1., 1.],\n",
      "        [1., 1.]])\n",
      "tensor([[2., 2.],\n",
      "        [2., 2.]])\n",
      "tensor([[3., 3.],\n",
      "        [3., 3.]])\n",
      "tensor([[4., 4.],\n",
      "        [4., 4.]])\n",
      "tensor([[1.4142, 1.4142],\n",
      "        [1.4142, 1.4142]])\n"
     ]
    }
   ],
   "source": [
    "ones = torch.zeros(2,2) + 1\n",
    "twos = torch.ones(2,2) * 2\n",
    "threes = (torch.ones(2,2) * 7 - 1) / 2\n",
    "fours = twos ** 2\n",
    "sqrt2s = twos ** 0.5\n",
    "\n",
    "print(ones)\n",
    "print(twos)\n",
    "print(threes)\n",
    "print(fours)\n",
    "print(sqrt2s)"
   ]
  },
  {
   "cell_type": "code",
   "execution_count": 11,
   "id": "ed338167-4ca3-4661-8af8-e4bb5f4b6b0c",
   "metadata": {},
   "outputs": [
    {
     "name": "stdout",
     "output_type": "stream",
     "text": [
      "tensor([[ 2.,  4.],\n",
      "        [ 8., 16.]])\n",
      "tensor([[5., 5.],\n",
      "        [5., 5.]])\n",
      "tensor([[12., 12.],\n",
      "        [12., 12.]])\n"
     ]
    }
   ],
   "source": [
    "powers2 = twos ** torch.tensor([[1,2],[3,4]])\n",
    "print(powers2)\n",
    "\n",
    "fives = ones + fours\n",
    "print(fives)\n",
    "\n",
    "dozens = threes * fours\n",
    "print(dozens)"
   ]
  },
  {
   "cell_type": "code",
   "execution_count": 12,
   "id": "84202bb6-cbd1-40c4-8e32-d4a7e5cdcb58",
   "metadata": {},
   "outputs": [
    {
     "ename": "RuntimeError",
     "evalue": "The size of tensor a (3) must match the size of tensor b (2) at non-singleton dimension 1",
     "output_type": "error",
     "traceback": [
      "\u001b[0;31m---------------------------------------------------------------------------\u001b[0m",
      "\u001b[0;31mRuntimeError\u001b[0m                              Traceback (most recent call last)",
      "Cell \u001b[0;32mIn[12], line 4\u001b[0m\n\u001b[1;32m      1\u001b[0m a \u001b[38;5;241m=\u001b[39m torch\u001b[38;5;241m.\u001b[39mrand(\u001b[38;5;241m2\u001b[39m,\u001b[38;5;241m3\u001b[39m)\n\u001b[1;32m      2\u001b[0m b \u001b[38;5;241m=\u001b[39m torch\u001b[38;5;241m.\u001b[39mrand(\u001b[38;5;241m3\u001b[39m,\u001b[38;5;241m2\u001b[39m)\n\u001b[0;32m----> 4\u001b[0m \u001b[38;5;28mprint\u001b[39m(a \u001b[38;5;241m*\u001b[39m b)\n",
      "\u001b[0;31mRuntimeError\u001b[0m: The size of tensor a (3) must match the size of tensor b (2) at non-singleton dimension 1"
     ]
    }
   ],
   "source": [
    "a = torch.rand(2,3)\n",
    "b = torch.rand(3,2)\n",
    "\n",
    "print(a * b)"
   ]
  },
  {
   "cell_type": "code",
   "execution_count": 13,
   "id": "cb66937e-d580-4c72-95a4-f4a4a6ccfaf5",
   "metadata": {},
   "outputs": [
    {
     "name": "stdout",
     "output_type": "stream",
     "text": [
      "tensor([[0.7220, 0.8217, 0.2612, 0.7375],\n",
      "        [0.8328, 0.8444, 0.2941, 0.3788]])\n",
      "tensor([[1.4439, 1.6434, 0.5224, 1.4750],\n",
      "        [1.6657, 1.6888, 0.5882, 0.7576]])\n"
     ]
    }
   ],
   "source": [
    "rand = torch.rand(2,4)\n",
    "doubled = rand * (torch.ones(1,4)*2)\n",
    "\n",
    "print(rand)\n",
    "print(doubled)"
   ]
  },
  {
   "cell_type": "code",
   "execution_count": 14,
   "id": "c5a3ae23-43f0-4b78-8934-03dd5d0ca8f5",
   "metadata": {},
   "outputs": [
    {
     "name": "stdout",
     "output_type": "stream",
     "text": [
      "tensor([[[0.4567, 0.0649],\n",
      "         [0.6677, 0.7826],\n",
      "         [0.1332, 0.0023]],\n",
      "\n",
      "        [[0.4567, 0.0649],\n",
      "         [0.6677, 0.7826],\n",
      "         [0.1332, 0.0023]],\n",
      "\n",
      "        [[0.4567, 0.0649],\n",
      "         [0.6677, 0.7826],\n",
      "         [0.1332, 0.0023]],\n",
      "\n",
      "        [[0.4567, 0.0649],\n",
      "         [0.6677, 0.7826],\n",
      "         [0.1332, 0.0023]]])\n",
      "tensor([[[0.4945, 0.4945],\n",
      "         [0.3857, 0.3857],\n",
      "         [0.9883, 0.9883]],\n",
      "\n",
      "        [[0.4945, 0.4945],\n",
      "         [0.3857, 0.3857],\n",
      "         [0.9883, 0.9883]],\n",
      "\n",
      "        [[0.4945, 0.4945],\n",
      "         [0.3857, 0.3857],\n",
      "         [0.9883, 0.9883]],\n",
      "\n",
      "        [[0.4945, 0.4945],\n",
      "         [0.3857, 0.3857],\n",
      "         [0.9883, 0.9883]]])\n",
      "tensor([[[0.4762, 0.7242],\n",
      "         [0.4762, 0.7242],\n",
      "         [0.4762, 0.7242]],\n",
      "\n",
      "        [[0.4762, 0.7242],\n",
      "         [0.4762, 0.7242],\n",
      "         [0.4762, 0.7242]],\n",
      "\n",
      "        [[0.4762, 0.7242],\n",
      "         [0.4762, 0.7242],\n",
      "         [0.4762, 0.7242]],\n",
      "\n",
      "        [[0.4762, 0.7242],\n",
      "         [0.4762, 0.7242],\n",
      "         [0.4762, 0.7242]]])\n"
     ]
    }
   ],
   "source": [
    "a = torch.ones(4,3,2)\n",
    "\n",
    "b = a*torch.rand(3,2) # 3rd and 2nd dims identical to a, dim 1 absent\n",
    "print(b)\n",
    "\n",
    "c = a*torch.rand(3,1) # 3rd dim = 1, 2nd dim identical to a\n",
    "print(c)\n",
    "\n",
    "d = a*torch.rand(1,2) # 3rd dim identical to a, 2nd dim = 1\n",
    "print(d)"
   ]
  },
  {
   "cell_type": "code",
   "execution_count": 15,
   "id": "76f2589e-2c9b-495f-8466-e3c2e1d6e1e1",
   "metadata": {},
   "outputs": [
    {
     "ename": "RuntimeError",
     "evalue": "The size of tensor a (2) must match the size of tensor b (3) at non-singleton dimension 2",
     "output_type": "error",
     "traceback": [
      "\u001b[0;31m---------------------------------------------------------------------------\u001b[0m",
      "\u001b[0;31mRuntimeError\u001b[0m                              Traceback (most recent call last)",
      "Cell \u001b[0;32mIn[15], line 3\u001b[0m\n\u001b[1;32m      1\u001b[0m a \u001b[38;5;241m=\u001b[39m torch\u001b[38;5;241m.\u001b[39mones(\u001b[38;5;241m4\u001b[39m,\u001b[38;5;241m3\u001b[39m,\u001b[38;5;241m2\u001b[39m)\n\u001b[0;32m----> 3\u001b[0m b \u001b[38;5;241m=\u001b[39m a\u001b[38;5;241m*\u001b[39mtorch\u001b[38;5;241m.\u001b[39mrand(\u001b[38;5;241m4\u001b[39m,\u001b[38;5;241m3\u001b[39m) \u001b[38;5;66;03m# dims must match last-to-first\u001b[39;00m\n\u001b[1;32m      4\u001b[0m \u001b[38;5;28mprint\u001b[39m(b)\n\u001b[1;32m      6\u001b[0m c \u001b[38;5;241m=\u001b[39m a\u001b[38;5;241m*\u001b[39mtorch\u001b[38;5;241m.\u001b[39mrand(\u001b[38;5;241m2\u001b[39m,\u001b[38;5;241m3\u001b[39m) \u001b[38;5;66;03m# both 3rd and 2nd dims different\u001b[39;00m\n",
      "\u001b[0;31mRuntimeError\u001b[0m: The size of tensor a (2) must match the size of tensor b (3) at non-singleton dimension 2"
     ]
    }
   ],
   "source": [
    "a = torch.ones(4,3,2)\n",
    "\n",
    "b = a*torch.rand(4,3) # dims must match last-to-first\n",
    "print(b)\n",
    "\n",
    "c = a*torch.rand(2,3) # both 3rd and 2nd dims different\n",
    "print(c)\n",
    "\n",
    "d = a*torch.rand((0,)) # can't broadcast with an empty tensor\n",
    "print(d)"
   ]
  },
  {
   "cell_type": "code",
   "execution_count": 25,
   "id": "64d84921-55af-40b6-bf77-4a8b140fc504",
   "metadata": {},
   "outputs": [
    {
     "name": "stdout",
     "output_type": "stream",
     "text": [
      "Common functions:\n",
      "tensor([[0.8260, 0.9665, 0.5411, 0.5652],\n",
      "        [0.5923, 0.4237, 0.4646, 0.3867]])\n",
      "tensor([[1., 1., 1., -0.],\n",
      "        [-0., -0., -0., -0.]])\n",
      "tensor([[ 0.,  0.,  0., -1.],\n",
      "        [-1., -1., -1., -1.]])\n",
      "tensor([[ 0.5000,  0.5000,  0.5000, -0.5000],\n",
      "        [-0.5000, -0.4237, -0.4646, -0.3867]])\n",
      "\n",
      "Sines and arcsine:\n",
      "tensor([0.0000, 0.7854, 1.5708, 2.3562])\n",
      "tensor([0.0000, 0.7071, 1.0000, 0.7071])\n",
      "tensor([0.0000, 0.7854, 1.5708, 0.7854])\n",
      "\n",
      "Bitwise XOR:\n",
      "tensor([3, 2, 1])\n",
      "\n",
      "Broadcasted, element-wise equality comparisons:\n",
      "tensor([[ True, False],\n",
      "        [False, False]])\n",
      "\n",
      "Reduction ops:\n",
      "tensor(4.)\n",
      "4.0\n",
      "tensor(2.5000)\n",
      "tensor(1.2910)\n",
      "tensor(24.)\n",
      "tensor([1, 2])\n",
      "\n",
      "Vectors and Matrices\n",
      "tensor([ 0.,  0., -1.])\n",
      "tensor([[0.6961, 0.5406],\n",
      "        [0.5028, 0.0389]])\n",
      "tensor([[2.0883, 1.6218],\n",
      "        [1.5083, 0.1166]])\n",
      "torch.return_types.svd(\n",
      "U=tensor([[-0.8876, -0.4605],\n",
      "        [-0.4605,  0.8876]]),\n",
      "S=tensor([2.9536, 0.7458]),\n",
      "V=tensor([[-0.8628,  0.5056],\n",
      "        [-0.5056, -0.8628]]))\n"
     ]
    }
   ],
   "source": [
    "a = torch.rand(2,4) * 2 -1\n",
    "print('Common functions:')\n",
    "print(torch.abs(a))\n",
    "print(torch.ceil(a))\n",
    "print(torch.floor(a))\n",
    "print(torch.clamp(a, -0.5,0.5))\n",
    "\n",
    "# trignometric functions\n",
    "angles = torch.tensor([0, math.pi/4, math.pi/2, 3*math.pi/4])\n",
    "sines = torch.sin(angles)\n",
    "inverses = torch.asin(sines)\n",
    "print('\\nSines and arcsine:')\n",
    "print(angles)\n",
    "print(sines)\n",
    "print(inverses)\n",
    "\n",
    "# bitwise\n",
    "print('\\nBitwise XOR:')\n",
    "b = torch.tensor([1,5,11])\n",
    "c = torch.tensor([2,7,10])\n",
    "print(torch.bitwise_xor(b,c))\n",
    "\n",
    "# comparisons\n",
    "print('\\nBroadcasted, element-wise equality comparisons:')\n",
    "d = torch.tensor([[1.,2.],[3.,4.]])\n",
    "e = torch.ones(1,2) # broadcasting\n",
    "print(torch.eq(d,e))\n",
    "\n",
    "# reductions\n",
    "print('\\nReduction ops:')\n",
    "print(torch.max(d))\n",
    "print(torch.max(d).item())\n",
    "print(torch.mean(d))\n",
    "print(torch.std(d))\n",
    "print(torch.prod(d)) # product of all numbers\n",
    "print(torch.unique(torch.tensor([1,2,1,2,1,2]))) # filter unique numbers\n",
    "\n",
    "# vector and linear algebra operations\n",
    "v1 = torch.tensor([1., 0., 0.]) # x unit vector\n",
    "v2 = torch.tensor([0., 1., 0.]) # y unit vector\n",
    "m1 = torch.rand(2,2)\n",
    "m2 = torch.tensor([[3.,0.], [0.,3.]]) # 3*I\n",
    "\n",
    "print('\\nVectors and Matrices')\n",
    "print(torch.linalg.cross(v2, v1)) # negative of x unit vector (v1 x v2 == -v2 x v1)\n",
    "print(m1)\n",
    "m3 = torch.matmul(m1, m2)\n",
    "print(m3)  # 3 * m1\n",
    "print(torch.svd(m3)) # SVD"
   ]
  },
  {
   "cell_type": "code",
   "execution_count": 26,
   "id": "6b74d183-46b0-46b0-902b-2d632844c81a",
   "metadata": {},
   "outputs": [
    {
     "name": "stdout",
     "output_type": "stream",
     "text": [
      "a:\n",
      "tensor([0.0000, 0.7854, 1.5708, 2.3562])\n",
      "tensor([0.0000, 0.7071, 1.0000, 0.7071])\n",
      "tensor([0.0000, 0.7854, 1.5708, 2.3562])\n",
      "\n",
      "b:\n",
      "tensor([0.0000, 0.7854, 1.5708, 2.3562])\n",
      "tensor([0.0000, 0.7071, 1.0000, 0.7071])\n",
      "tensor([0.0000, 0.7071, 1.0000, 0.7071])\n"
     ]
    }
   ],
   "source": [
    "a = torch.tensor([0, math.pi/4, math.pi/2, 3*math.pi/4])\n",
    "print('a:')\n",
    "print(a)\n",
    "print(torch.sin(a))\n",
    "print(a)\n",
    "\n",
    "b = torch.tensor([0, math.pi/4, math.pi/2, 3*math.pi/4])\n",
    "print('\\nb:')\n",
    "print(b)\n",
    "print(torch.sin_(b)) # in-place\n",
    "print(b)\n"
   ]
  },
  {
   "cell_type": "code",
   "execution_count": 27,
   "id": "bf56da7b-ecd1-4cd0-8e61-a97cd1604b16",
   "metadata": {},
   "outputs": [
    {
     "name": "stdout",
     "output_type": "stream",
     "text": [
      "Before:\n",
      "tensor([[1., 1.],\n",
      "        [1., 1.]])\n",
      "tensor([[0.1795, 0.1413],\n",
      "        [0.7666, 0.1920]])\n",
      "\n",
      "After addtion:\n",
      "tensor([[1.1795, 1.1413],\n",
      "        [1.7666, 1.1920]])\n",
      "tensor([[1.1795, 1.1413],\n",
      "        [1.7666, 1.1920]])\n",
      "tensor([[0.1795, 0.1413],\n",
      "        [0.7666, 0.1920]])\n",
      "\n",
      "After multiplying\n",
      "tensor([[0.0322, 0.0200],\n",
      "        [0.5877, 0.0369]])\n",
      "tensor([[0.0322, 0.0200],\n",
      "        [0.5877, 0.0369]])\n"
     ]
    }
   ],
   "source": [
    "a = torch.ones(2,2)\n",
    "b = torch.rand(2,2)\n",
    "\n",
    "print('Before:')\n",
    "print(a)\n",
    "print(b)\n",
    "print('\\nAfter addtion:')\n",
    "print(a.add_(b))\n",
    "print(a)\n",
    "print(b)\n",
    "print('\\nAfter multiplying')\n",
    "print(b.mul_(b))\n",
    "print(b)"
   ]
  },
  {
   "cell_type": "code",
   "execution_count": 28,
   "id": "63794a78-4bac-474b-bc1b-6f318e73b0ec",
   "metadata": {},
   "outputs": [
    {
     "name": "stdout",
     "output_type": "stream",
     "text": [
      "tensor([[0., 0.],\n",
      "        [0., 0.]])\n",
      "tensor([[0.7622, 0.4266],\n",
      "        [0.8982, 0.6873]])\n",
      "tensor([[0.0425, 0.0313],\n",
      "        [0.5074, 0.7209]])\n"
     ]
    }
   ],
   "source": [
    "a = torch.rand(2,2)\n",
    "b = torch.rand(2,2)\n",
    "c = torch.zeros(2,2)\n",
    "old_id = id(c)\n",
    "\n",
    "print(c)\n",
    "d = torch.matmul(a, b, out=c)\n",
    "print(c)\n",
    "\n",
    "assert c is d\n",
    "assert id(c), old_id\n",
    "\n",
    "torch.rand(2,2,out=c)\n",
    "print(c)\n",
    "assert id(c), old_id"
   ]
  },
  {
   "cell_type": "code",
   "execution_count": 29,
   "id": "0674f110-acac-4a7c-91e9-f56a033e4d75",
   "metadata": {},
   "outputs": [
    {
     "name": "stdout",
     "output_type": "stream",
     "text": [
      "tensor([[  1., 561.],\n",
      "        [  1.,   1.]])\n"
     ]
    }
   ],
   "source": [
    "a = torch.ones(2,2)\n",
    "b = a\n",
    "a[0][1] = 561\n",
    "print(b)"
   ]
  },
  {
   "cell_type": "code",
   "execution_count": 30,
   "id": "600c49fe-6172-4e5f-92cf-89243bba9375",
   "metadata": {},
   "outputs": [
    {
     "name": "stdout",
     "output_type": "stream",
     "text": [
      "tensor([[True, True],\n",
      "        [True, True]])\n",
      "tensor([[1., 1.],\n",
      "        [1., 1.]])\n"
     ]
    }
   ],
   "source": [
    "a = torch.ones(2,2)\n",
    "b = a.clone()\n",
    "\n",
    "assert b is not a\n",
    "print(torch.eq(a, b))\n",
    "\n",
    "a[0][1] = 561\n",
    "print(b)"
   ]
  },
  {
   "cell_type": "code",
   "execution_count": 31,
   "id": "2b90883f-59b8-456e-9761-cef23394731c",
   "metadata": {},
   "outputs": [
    {
     "name": "stdout",
     "output_type": "stream",
     "text": [
      "tensor([[0.6635, 0.1084],\n",
      "        [0.1523, 0.8454]], requires_grad=True)\n",
      "tensor([[0.6635, 0.1084],\n",
      "        [0.1523, 0.8454]], grad_fn=<CloneBackward0>)\n",
      "tensor([[0.6635, 0.1084],\n",
      "        [0.1523, 0.8454]])\n",
      "tensor([[0.6635, 0.1084],\n",
      "        [0.1523, 0.8454]], requires_grad=True)\n"
     ]
    }
   ],
   "source": [
    "a = torch.rand(2,2, requires_grad=True)\n",
    "print(a)\n",
    "\n",
    "b = a.clone()\n",
    "print(b)\n",
    "\n",
    "c = a.detach().clone()\n",
    "print(c)\n",
    "\n",
    "print(a)"
   ]
  },
  {
   "cell_type": "code",
   "execution_count": 36,
   "id": "951d2ef4-787f-4285-bf26-bd620ef7b3af",
   "metadata": {},
   "outputs": [
    {
     "name": "stdout",
     "output_type": "stream",
     "text": [
      "We have 1 GPU(s)!\n"
     ]
    }
   ],
   "source": [
    "if torch.cuda.is_available():\n",
    "    print('We have', torch.cuda.device_count(), 'GPU(s)!')\n",
    "else:\n",
    "    print('Sorry, CPU only.')"
   ]
  },
  {
   "cell_type": "code",
   "execution_count": 34,
   "id": "bd89d64f-9364-4f12-9ed2-43b9fbae9d1b",
   "metadata": {},
   "outputs": [
    {
     "ename": "RuntimeError",
     "evalue": "CUDA error: CUDA-capable device(s) is/are busy or unavailable\nCUDA kernel errors might be asynchronously reported at some other API call, so the stacktrace below might be incorrect.\nFor debugging consider passing CUDA_LAUNCH_BLOCKING=1\nCompile with `TORCH_USE_CUDA_DSA` to enable device-side assertions.\n",
     "output_type": "error",
     "traceback": [
      "\u001b[0;31m---------------------------------------------------------------------------\u001b[0m",
      "\u001b[0;31mRuntimeError\u001b[0m                              Traceback (most recent call last)",
      "Cell \u001b[0;32mIn[34], line 2\u001b[0m\n\u001b[1;32m      1\u001b[0m \u001b[38;5;28;01mif\u001b[39;00m torch\u001b[38;5;241m.\u001b[39mcuda\u001b[38;5;241m.\u001b[39mis_available():\n\u001b[0;32m----> 2\u001b[0m     gpu_rand \u001b[38;5;241m=\u001b[39m torch\u001b[38;5;241m.\u001b[39mrand(\u001b[38;5;241m2\u001b[39m,\u001b[38;5;241m2\u001b[39m, device\u001b[38;5;241m=\u001b[39m\u001b[38;5;124m'\u001b[39m\u001b[38;5;124mcuda\u001b[39m\u001b[38;5;124m'\u001b[39m)\n\u001b[1;32m      3\u001b[0m     \u001b[38;5;28mprint\u001b[39m(gpu_rand)\n\u001b[1;32m      4\u001b[0m \u001b[38;5;28;01melse\u001b[39;00m:\n",
      "\u001b[0;31mRuntimeError\u001b[0m: CUDA error: CUDA-capable device(s) is/are busy or unavailable\nCUDA kernel errors might be asynchronously reported at some other API call, so the stacktrace below might be incorrect.\nFor debugging consider passing CUDA_LAUNCH_BLOCKING=1\nCompile with `TORCH_USE_CUDA_DSA` to enable device-side assertions.\n"
     ]
    }
   ],
   "source": [
    "if torch.cuda.is_available():\n",
    "    gpu_rand = torch.rand(2,2, device='cuda')\n",
    "    print(gpu_rand)\n",
    "else:\n",
    "    print('Sorry, CPU only.')"
   ]
  },
  {
   "cell_type": "code",
   "execution_count": 38,
   "id": "810e7aa9-d848-4563-9b42-0362a85c16ef",
   "metadata": {},
   "outputs": [
    {
     "name": "stdout",
     "output_type": "stream",
     "text": [
      "Device: cuda\n"
     ]
    },
    {
     "ename": "RuntimeError",
     "evalue": "CUDA error: CUDA-capable device(s) is/are busy or unavailable\nCUDA kernel errors might be asynchronously reported at some other API call, so the stacktrace below might be incorrect.\nFor debugging consider passing CUDA_LAUNCH_BLOCKING=1\nCompile with `TORCH_USE_CUDA_DSA` to enable device-side assertions.\n",
     "output_type": "error",
     "traceback": [
      "\u001b[0;31m---------------------------------------------------------------------------\u001b[0m",
      "\u001b[0;31mRuntimeError\u001b[0m                              Traceback (most recent call last)",
      "Cell \u001b[0;32mIn[38], line 7\u001b[0m\n\u001b[1;32m      4\u001b[0m     my_device \u001b[38;5;241m=\u001b[39m torch\u001b[38;5;241m.\u001b[39mdevice(\u001b[38;5;124m'\u001b[39m\u001b[38;5;124mcpu\u001b[39m\u001b[38;5;124m'\u001b[39m)\n\u001b[1;32m      5\u001b[0m \u001b[38;5;28mprint\u001b[39m(\u001b[38;5;124m'\u001b[39m\u001b[38;5;124mDevice: \u001b[39m\u001b[38;5;132;01m{}\u001b[39;00m\u001b[38;5;124m'\u001b[39m\u001b[38;5;241m.\u001b[39mformat(my_device))\n\u001b[0;32m----> 7\u001b[0m x \u001b[38;5;241m=\u001b[39m torch\u001b[38;5;241m.\u001b[39mrand(\u001b[38;5;241m2\u001b[39m,\u001b[38;5;241m2\u001b[39m, device\u001b[38;5;241m=\u001b[39mmy_device)\n\u001b[1;32m      8\u001b[0m \u001b[38;5;28mprint\u001b[39m(x)\n",
      "\u001b[0;31mRuntimeError\u001b[0m: CUDA error: CUDA-capable device(s) is/are busy or unavailable\nCUDA kernel errors might be asynchronously reported at some other API call, so the stacktrace below might be incorrect.\nFor debugging consider passing CUDA_LAUNCH_BLOCKING=1\nCompile with `TORCH_USE_CUDA_DSA` to enable device-side assertions.\n"
     ]
    }
   ],
   "source": [
    "if torch.cuda.is_available():\n",
    "    my_device = torch.device('cuda')\n",
    "else:\n",
    "    my_device = torch.device('cpu')\n",
    "print('Device: {}'.format(my_device))\n",
    "\n",
    "x = torch.rand(2,2, device=my_device)\n",
    "print(x)"
   ]
  },
  {
   "cell_type": "code",
   "execution_count": 39,
   "id": "e7d85595-2466-4977-904b-19daf41d1967",
   "metadata": {},
   "outputs": [
    {
     "ename": "RuntimeError",
     "evalue": "CUDA error: CUDA-capable device(s) is/are busy or unavailable\nCUDA kernel errors might be asynchronously reported at some other API call, so the stacktrace below might be incorrect.\nFor debugging consider passing CUDA_LAUNCH_BLOCKING=1\nCompile with `TORCH_USE_CUDA_DSA` to enable device-side assertions.\n",
     "output_type": "error",
     "traceback": [
      "\u001b[0;31m---------------------------------------------------------------------------\u001b[0m",
      "\u001b[0;31mRuntimeError\u001b[0m                              Traceback (most recent call last)",
      "Cell \u001b[0;32mIn[39], line 2\u001b[0m\n\u001b[1;32m      1\u001b[0m y \u001b[38;5;241m=\u001b[39m torch\u001b[38;5;241m.\u001b[39mrand(\u001b[38;5;241m2\u001b[39m,\u001b[38;5;241m2\u001b[39m)\n\u001b[0;32m----> 2\u001b[0m y \u001b[38;5;241m=\u001b[39m y\u001b[38;5;241m.\u001b[39mto(my_device)\n",
      "\u001b[0;31mRuntimeError\u001b[0m: CUDA error: CUDA-capable device(s) is/are busy or unavailable\nCUDA kernel errors might be asynchronously reported at some other API call, so the stacktrace below might be incorrect.\nFor debugging consider passing CUDA_LAUNCH_BLOCKING=1\nCompile with `TORCH_USE_CUDA_DSA` to enable device-side assertions.\n"
     ]
    }
   ],
   "source": [
    "y = torch.rand(2,2)\n",
    "y = y.to(my_device)"
   ]
  },
  {
   "cell_type": "code",
   "execution_count": 40,
   "id": "3415f30b-b1ff-4854-8173-2220a3cdd1c1",
   "metadata": {},
   "outputs": [
    {
     "name": "stdout",
     "output_type": "stream",
     "text": [
      "torch.Size([3, 226, 226])\n",
      "torch.Size([1, 3, 226, 226])\n"
     ]
    }
   ],
   "source": [
    "a = torch.rand(3,226,226)\n",
    "b = a.unsqueeze(0)\n",
    "\n",
    "print(a.shape)\n",
    "print(b.shape)"
   ]
  },
  {
   "cell_type": "code",
   "execution_count": 41,
   "id": "f2befaec-c695-438e-82de-6126ec363960",
   "metadata": {},
   "outputs": [
    {
     "name": "stdout",
     "output_type": "stream",
     "text": [
      "tensor([[[[[0.7302]]]]])\n"
     ]
    }
   ],
   "source": [
    "c = torch.rand(1,1,1,1,1)\n",
    "print(c)"
   ]
  },
  {
   "cell_type": "code",
   "execution_count": 42,
   "id": "ab127079-99de-408b-ad1a-44b9d0178267",
   "metadata": {},
   "outputs": [
    {
     "name": "stdout",
     "output_type": "stream",
     "text": [
      "torch.Size([1, 20])\n",
      "tensor([[0.5719, 0.4672, 0.1316, 0.2789, 0.7389, 0.3947, 0.7705, 0.0227, 0.2371,\n",
      "         0.5902, 0.5563, 0.1966, 0.2077, 0.8869, 0.7977, 0.4532, 0.1746, 0.2414,\n",
      "         0.2355, 0.9062]])\n",
      "torch.Size([20])\n",
      "tensor([0.5719, 0.4672, 0.1316, 0.2789, 0.7389, 0.3947, 0.7705, 0.0227, 0.2371,\n",
      "        0.5902, 0.5563, 0.1966, 0.2077, 0.8869, 0.7977, 0.4532, 0.1746, 0.2414,\n",
      "        0.2355, 0.9062])\n",
      "torch.Size([2, 2])\n",
      "torch.Size([2, 2])\n"
     ]
    }
   ],
   "source": [
    "a = torch.rand(1,20)\n",
    "print(a.shape)\n",
    "print(a)\n",
    "\n",
    "b = a.squeeze(0)\n",
    "print(b.shape)\n",
    "print(b)\n",
    "\n",
    "c = torch.rand(2,2)\n",
    "print(c.shape)\n",
    "\n",
    "d = c.squeeze(0)\n",
    "print(d.shape)"
   ]
  },
  {
   "cell_type": "code",
   "execution_count": 43,
   "id": "ada485b2-f600-4d2b-866c-b157b7aa4f1c",
   "metadata": {},
   "outputs": [
    {
     "name": "stdout",
     "output_type": "stream",
     "text": [
      "torch.Size([3, 1])\n",
      "tensor([[[0.0906, 0.0906],\n",
      "         [0.3839, 0.3839],\n",
      "         [0.4696, 0.4696]],\n",
      "\n",
      "        [[0.0906, 0.0906],\n",
      "         [0.3839, 0.3839],\n",
      "         [0.4696, 0.4696]],\n",
      "\n",
      "        [[0.0906, 0.0906],\n",
      "         [0.3839, 0.3839],\n",
      "         [0.4696, 0.4696]],\n",
      "\n",
      "        [[0.0906, 0.0906],\n",
      "         [0.3839, 0.3839],\n",
      "         [0.4696, 0.4696]]])\n"
     ]
    }
   ],
   "source": [
    "a = torch.ones(4,3,2)\n",
    "b = torch.rand(3)\n",
    "c = b.unsqueeze(1)\n",
    "print(c.shape)\n",
    "print(a*c)"
   ]
  },
  {
   "cell_type": "code",
   "execution_count": 44,
   "id": "eb105aa9-64d1-468b-b7d3-053e3867fd12",
   "metadata": {},
   "outputs": [
    {
     "name": "stdout",
     "output_type": "stream",
     "text": [
      "torch.Size([3, 226, 226])\n",
      "torch.Size([1, 3, 226, 226])\n"
     ]
    }
   ],
   "source": [
    "batch_me = torch.rand(3,226,226)\n",
    "print(batch_me.shape)\n",
    "batch_me.unsqueeze_(0)\n",
    "print(batch_me.shape)"
   ]
  },
  {
   "cell_type": "code",
   "execution_count": 45,
   "id": "79b19404-9bdf-447f-93c5-0eb2284d6ad9",
   "metadata": {},
   "outputs": [
    {
     "name": "stdout",
     "output_type": "stream",
     "text": [
      "torch.Size([6, 20, 20])\n",
      "torch.Size([2400])\n",
      "torch.Size([2400])\n"
     ]
    }
   ],
   "source": [
    "output3d = torch.rand(6,20,20)\n",
    "print(output3d.shape)\n",
    "\n",
    "input1d = output3d.reshape(6*20*20)\n",
    "print(input1d.shape)\n",
    "\n",
    "print(torch.reshape(output3d, (6*20*20,)).shape)"
   ]
  },
  {
   "cell_type": "code",
   "execution_count": 46,
   "id": "aad34322-3019-432c-b1dc-54e33d7c58f5",
   "metadata": {},
   "outputs": [
    {
     "name": "stdout",
     "output_type": "stream",
     "text": [
      "[[1. 1. 1.]\n",
      " [1. 1. 1.]]\n",
      "tensor([[1., 1., 1.],\n",
      "        [1., 1., 1.]], dtype=torch.float64)\n"
     ]
    }
   ],
   "source": [
    "import numpy as np\n",
    "\n",
    "nparray = np.ones((2,3))\n",
    "print(nparray)\n",
    "\n",
    "pytorch_tensor = torch.from_numpy(nparray)\n",
    "print(pytorch_tensor)"
   ]
  },
  {
   "cell_type": "code",
   "execution_count": 47,
   "id": "0ccf63e9-5f71-4894-8084-dd12c1dd56e6",
   "metadata": {},
   "outputs": [
    {
     "name": "stdout",
     "output_type": "stream",
     "text": [
      "tensor([[0.5413, 0.7529, 0.0877],\n",
      "        [0.7201, 0.0580, 0.2624]])\n",
      "[[0.5413369  0.75290173 0.08767194]\n",
      " [0.72013265 0.05796134 0.26237112]]\n"
     ]
    }
   ],
   "source": [
    "pytorch_rand = torch.rand(2,3)\n",
    "print(pytorch_rand)\n",
    "\n",
    "numpy_rand = pytorch_rand.numpy()\n",
    "print(numpy_rand)"
   ]
  },
  {
   "cell_type": "code",
   "execution_count": 48,
   "id": "9b660ac9-07c0-4863-a3e2-919b72523335",
   "metadata": {},
   "outputs": [
    {
     "name": "stdout",
     "output_type": "stream",
     "text": [
      "tensor([[ 1.,  1.,  1.],\n",
      "        [ 1., 23.,  1.]], dtype=torch.float64)\n",
      "[[ 0.5413369   0.75290173  0.08767194]\n",
      " [ 0.72013265 17.          0.26237112]]\n"
     ]
    }
   ],
   "source": [
    "nparray[1,1] = 23\n",
    "print(pytorch_tensor)\n",
    "\n",
    "pytorch_rand[1,1] = 17\n",
    "print(numpy_rand)"
   ]
  },
  {
   "cell_type": "code",
   "execution_count": null,
   "id": "530bf711-8bce-4831-9c10-6657e106533e",
   "metadata": {},
   "outputs": [],
   "source": []
  }
 ],
 "metadata": {
  "kernelspec": {
   "display_name": "Python 3 (ipykernel)",
   "language": "python",
   "name": "python3"
  },
  "language_info": {
   "codemirror_mode": {
    "name": "ipython",
    "version": 3
   },
   "file_extension": ".py",
   "mimetype": "text/x-python",
   "name": "python",
   "nbconvert_exporter": "python",
   "pygments_lexer": "ipython3",
   "version": "3.12.5"
  }
 },
 "nbformat": 4,
 "nbformat_minor": 5
}
